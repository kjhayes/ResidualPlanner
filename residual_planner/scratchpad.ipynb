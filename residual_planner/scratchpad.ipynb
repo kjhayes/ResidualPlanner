{
 "cells": [
  {
   "cell_type": "markdown",
   "id": "1e0dc6a6-9906-468b-b819-735e61e0d75a",
   "metadata": {},
   "source": [
    "# CS 397 Final Project Scratchpad - Kevin Hayes\n",
    "\n",
    "This document is me getting a grip on the ResidualPlanner (https://github.com/dkifer/ResidualPlanner) codebase while reading and rereading the associated paper.\n",
    "Its not well formatted but I'll try to leave comments as I go to help make some sense of my thoughts."
   ]
  },
  {
   "cell_type": "code",
   "execution_count": 5,
   "id": "f09bad6c-63c0-4fa5-8573-a7277e6975b5",
   "metadata": {},
   "outputs": [],
   "source": [
    "import time\n",
    "import cdp2adp\n",
    "import class_resplan"
   ]
  },
  {
   "cell_type": "code",
   "execution_count": 7,
   "id": "8af264f4-d6a4-49d9-91f0-4be09cacd771",
   "metadata": {},
   "outputs": [
    {
     "name": "stdout",
     "output_type": "stream",
     "text": [
      "------------------- ep:  0.03 ------------------\n",
      "Len of adult dataset:  48842\n",
      "Num of 3-way marginals:  364\n",
      "Total num of queries:  20894536 \n",
      "\n",
      "Start Measurement, total number of cells:  470\n",
      "Start Reconstruction, total number of marginals:  364\n",
      "Mean Error:  1558.1380588608258\n",
      "------------------- ep:  0.1 ------------------\n",
      "Len of adult dataset:  48842\n",
      "Num of 3-way marginals:  364\n",
      "Total num of queries:  20894536 \n",
      "\n",
      "Start Measurement, total number of cells:  470\n",
      "Start Reconstruction, total number of marginals:  364\n",
      "Mean Error:  487.9391198628924\n",
      "------------------- ep:  0.31 ------------------\n",
      "Len of adult dataset:  48842\n",
      "Num of 3-way marginals:  364\n",
      "Total num of queries:  20894536 \n",
      "\n",
      "Start Measurement, total number of cells:  470\n",
      "Start Reconstruction, total number of marginals:  364\n",
      "Mean Error:  163.71706553200994\n",
      "------------------- ep:  1.0 ------------------\n",
      "Len of adult dataset:  48842\n",
      "Num of 3-way marginals:  364\n",
      "Total num of queries:  20894536 \n",
      "\n",
      "Start Measurement, total number of cells:  470\n",
      "Start Reconstruction, total number of marginals:  364\n",
      "Mean Error:  53.07355045760957\n",
      "------------------- ep:  3.16 ------------------\n",
      "Len of adult dataset:  48842\n",
      "Num of 3-way marginals:  364\n",
      "Total num of queries:  20894536 \n",
      "\n",
      "Start Measurement, total number of cells:  470\n",
      "Start Reconstruction, total number of marginals:  364\n",
      "Mean Error:  17.807598615934303\n",
      "------------------- ep:  10 ------------------\n",
      "Len of adult dataset:  48842\n",
      "Num of 3-way marginals:  364\n",
      "Total num of queries:  20894536 \n",
      "\n",
      "Start Measurement, total number of cells:  470\n",
      "Start Reconstruction, total number of marginals:  364\n",
      "Mean Error:  6.216304470851942\n"
     ]
    }
   ],
   "source": [
    "# Example from class_resplan.py\n",
    "\n",
    "start = time.time()\n",
    "\n",
    "# epsilon-DP values we want to test\n",
    "ep_ls = [0.03, 0.1, 0.31, 1.0, 3.16, 10]\n",
    "\n",
    "for eps in ep_ls:\n",
    "    print(\"------------------- ep: \", eps, \"------------------\")\n",
    "    # Use a constant and small value for delta\n",
    "    delta = 1e-9\n",
    "    rho = cdp2adp.cdp_rho(eps, delta)\n",
    "    pcost = rho * 2\n",
    "\n",
    "    system, total = class_resplan.test_Adult()\n",
    "    sum_var = system.selection(choice=\"sumvar\", pcost=pcost)\n",
    "    system.measurement()\n",
    "    system.reconstruction()\n",
    "    l_error = system.get_mean_error(ord=1)\n",
    "    print(\"Mean Error: \", l_error)\n",
    "\n",
    "end = time.time()\n"
   ]
  },
  {
   "cell_type": "code",
   "execution_count": null,
   "id": "c0b8cee0-9336-47a6-961c-8c6c0b79e97c",
   "metadata": {},
   "outputs": [],
   "source": []
  }
 ],
 "metadata": {
  "kernelspec": {
   "display_name": "Python 3 (ipykernel)",
   "language": "python",
   "name": "python3"
  },
  "language_info": {
   "codemirror_mode": {
    "name": "ipython",
    "version": 3
   },
   "file_extension": ".py",
   "mimetype": "text/x-python",
   "name": "python",
   "nbconvert_exporter": "python",
   "pygments_lexer": "ipython3",
   "version": "3.11.1"
  }
 },
 "nbformat": 4,
 "nbformat_minor": 5
}
